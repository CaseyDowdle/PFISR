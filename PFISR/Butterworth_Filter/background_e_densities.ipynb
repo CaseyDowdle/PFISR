{
 "cells": [
  {
   "cell_type": "code",
   "execution_count": 1,
   "metadata": {},
   "outputs": [],
   "source": [
    "%matplotlib inline"
   ]
  },
  {
   "cell_type": "code",
   "execution_count": 2,
   "metadata": {},
   "outputs": [
    {
     "name": "stderr",
     "output_type": "stream",
     "text": [
      "/usr/local/lib/python2.7/dist-packages/h5py/__init__.py:36: FutureWarning: Conversion of the second argument of issubdtype from `float` to `np.floating` is deprecated. In future, it will be treated as `np.float64 == np.dtype(float).type`.\n",
      "  from ._conv import register_converters as _register_converters\n"
     ]
    }
   ],
   "source": [
    "import matplotlib\n",
    "import matplotlib.pyplot as plt\n",
    "import matplotlib.colors as colors\n",
    "import numpy as np\n",
    "import h5py\n",
    "import numpy.ma as ma\n",
    "from scipy.signal import butter, lfilter, freqz\n",
    "from scipy.interpolate import interp1d"
   ]
  },
  {
   "cell_type": "code",
   "execution_count": 3,
   "metadata": {
    "scrolled": true
   },
   "outputs": [
    {
     "name": "stdout",
     "output_type": "stream",
     "text": [
      "Altiude Shape:  (4, 180)\n",
      "Ne_NoTr Shape:  (159, 4, 180)\n",
      "dtime Shape:  (159, 2)\n"
     ]
    }
   ],
   "source": [
    "#Opening h5 data file, reading data into arrays, then closing file\n",
    "file_name = '20120123.004_lp_5min-cal.h5'\n",
    "hf = h5py.File(file_name, 'r')\n",
    "\n",
    "altitude = np.array(hf['NeFromPower/Altitude'])\n",
    "Ne_NoTr = np.array(hf['NeFromPower/Ne_NoTr'])\n",
    "dtime = np.array(hf['Time/dtime'])\n",
    "\n",
    "hf.close()\n",
    "\n",
    "#Printing shape of arrays\n",
    "print 'Altiude Shape: ', altitude.shape\n",
    "print 'Ne_NoTr Shape: ', Ne_NoTr.shape\n",
    "print 'dtime Shape: ', dtime.shape"
   ]
  },
  {
   "cell_type": "code",
   "execution_count": 4,
   "metadata": {},
   "outputs": [],
   "source": [
    "Ne_alt_0_p_0 = Ne_NoTr[:,0,0] # 1-D Ne array for altitude 0 and pole 0\n",
    "Ne_alt_0_p_0_m1 = ma.masked_less_equal(Ne_alt_0_p_0,0) # masking negative electron densities\n",
    "Ne_alt_0_p_0_m2 = np.ma.masked_invalid(Ne_alt_0_p_0_m1) # masking NaN values\n",
    "\n",
    "#Adding 24 to  all values in time array after UT resets to zero\n",
    "dtime_shift = np.copy(dtime)\n",
    "dtime_shift[111,1] += 24\n",
    "dtime_shift[112:,:]+= 24\n",
    "#Creating mean time array\n",
    "dtime_shift_mean = np.mean(dtime_shift,axis=1)\n",
    "#Matrix of indexes for nonzero (i.e. nonmasked) elements in Ne array\n",
    "Ne_index = ma.nonzero(Ne_alt_0_p_0_m2)\n",
    "\n",
    "time_mask_removed = np.copy(dtime_shift_mean)\n",
    "# Setting masked values in time array to 0\n",
    "for i in range(159):\n",
    "    if np.isin(i,Ne_index) == False:\n",
    "      time_mask_removed[i] = 0\n",
    "    \n",
    "# Removing zero values from time array   \n",
    "time_interp = time_mask_removed[np.nonzero(time_mask_removed)] \n",
    "# Removing masked values from Ne array\n",
    "Ne_interp = ma.compressed(Ne_alt_0_p_0_m2) \n",
    "# Defining interpolation function for Ne (as function of time)\n",
    "interp_fun_Ne = interp1d(time_interp, Ne_interp,kind='cubic')\n",
    "\n",
    "#Define time array w/ spacing similar to original time sampling\n",
    "N = Ne_index[0]\n",
    "n_time_elements = int(N[-1]) - int(N[0])+1\n",
    "time_array = np.linspace(time_interp[0],time_interp[-1],n_time_elements)\n",
    "\n",
    "#Define functions used to filter data\n",
    "def butter_lowpass(cutoff, fs, order):\n",
    "    nyq = 0.5 * fs                    #Nyquist frequency\n",
    "    normal_cutoff = cutoff / nyq\n",
    "    b, a = butter(order, normal_cutoff, btype='low', analog=False)\n",
    "    return b, a\n",
    "\n",
    "def butter_lowpass_filter(data, cutoff, fs, order):\n",
    "    b, a = butter_lowpass(cutoff, fs, order=order)\n",
    "    y = lfilter(b, a, data)\n",
    "    return y\n",
    "\n",
    "\n",
    "# Filter requirements.\n",
    "order = 6\n",
    "sampling_period_hr = time_array[1] - time_array[0]\n",
    "fs = float(1) / float(sampling_period_hr) # sampling frequency, Hz\n",
    "cutoff = float(1) / float(2) # desired cutoff frequency of the filter, Hz\n",
    "\n",
    "# Get the filter coefficients so we can check its frequency response.\n",
    "b, a = butter_lowpass(cutoff, fs, order)\n",
    "\n",
    "#Setting up (evenly spaced) time and Ne arrays\n",
    "t = time_array\n",
    "data = interp_fun_Ne(time_array)\n",
    "\n",
    "#Filter data\n",
    "filtered_data = butter_lowpass_filter(data, cutoff, fs, order)"
   ]
  }
 ],
 "metadata": {
  "kernelspec": {
   "display_name": "Python 2",
   "language": "python",
   "name": "python2"
  },
  "language_info": {
   "codemirror_mode": {
    "name": "ipython",
    "version": 2
   },
   "file_extension": ".py",
   "mimetype": "text/x-python",
   "name": "python",
   "nbconvert_exporter": "python",
   "pygments_lexer": "ipython2",
   "version": "2.7.12"
  }
 },
 "nbformat": 4,
 "nbformat_minor": 2
}
